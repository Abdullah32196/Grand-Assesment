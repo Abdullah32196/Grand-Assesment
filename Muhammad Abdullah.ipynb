{
 "cells": [
  {
   "cell_type": "markdown",
   "id": "89cd6249",
   "metadata": {},
   "source": [
    "# Name: Muhammad Abdullah,  Roll No : PIAIC176524"
   ]
  },
  {
   "cell_type": "markdown",
   "id": "273d12e3",
   "metadata": {},
   "source": [
    "# VARIABLES AND STRINGS"
   ]
  },
  {
   "cell_type": "markdown",
   "id": "9ed97f85",
   "metadata": {},
   "source": [
    "# 1. Simple Message:"
   ]
  },
  {
   "cell_type": "code",
   "execution_count": 1,
   "id": "3b256b1d",
   "metadata": {},
   "outputs": [
    {
     "name": "stdout",
     "output_type": "stream",
     "text": [
      " Muhamamd Abdullah\n"
     ]
    }
   ],
   "source": [
    "Name = (\" Muhamamd Abdullah\")\n",
    "print(Name)\n"
   ]
  },
  {
   "cell_type": "markdown",
   "id": "f8f066c9",
   "metadata": {},
   "source": [
    "# 2. Find a quote from a famous person you admire."
   ]
  },
  {
   "cell_type": "code",
   "execution_count": 4,
   "id": "58b795e6",
   "metadata": {},
   "outputs": [
    {
     "name": "stdout",
     "output_type": "stream",
     "text": [
      "Aristotle once said,\"Dignity does not consist in possessing honors, but in the consciousness that we deserve them.\"\n"
     ]
    }
   ],
   "source": [
    "quote = ('Aristotle once said,\"Dignity does not consist in possessing honors, but in the consciousness that we deserve them.\"')\n",
    "print(quote)\n",
    "\n"
   ]
  },
  {
   "cell_type": "markdown",
   "id": "7003f217",
   "metadata": {},
   "source": [
    "# 3. Calculate area of a circle:"
   ]
  },
  {
   "cell_type": "markdown",
   "id": "d722fc77",
   "metadata": {},
   "source": [
    "# A = πR²"
   ]
  },
  {
   "cell_type": "code",
   "execution_count": 2,
   "id": "dcecc60e",
   "metadata": {},
   "outputs": [
    {
     "name": "stdout",
     "output_type": "stream",
     "text": [
      "Enter the radius of the circle: 10\n",
      "The area of the circle is 314.0\n"
     ]
    }
   ],
   "source": [
    "radius = float(input(\"Enter the radius of the circle: \"))\n",
    "area = 3.14 * radius**2\n",
    "print(\"The area of the circle is\", area)"
   ]
  },
  {
   "cell_type": "markdown",
   "id": "7bd7afae",
   "metadata": {},
   "source": [
    "# 4.Check number either positive,nigative or zero::"
   ]
  },
  {
   "cell_type": "code",
   "execution_count": 3,
   "id": "a015bf09",
   "metadata": {},
   "outputs": [
    {
     "name": "stdout",
     "output_type": "stream",
     "text": [
      "Enter a number:10\n",
      "10 is positive\n"
     ]
    }
   ],
   "source": [
    "num = int(input(\"Enter a number:\"))\n",
    "if num > 0:\n",
    "    print(num, \"is positive\")\n",
    "elif num == 0:\n",
    "    print(num, \"is zero\")\n",
    "else:\n",
    "    print(num, \"is negative\")\n",
    "    \n",
    "    \n"
   ]
  },
  {
   "cell_type": "markdown",
   "id": "c4c3284a",
   "metadata": {},
   "source": [
    "# 5.Vowel Tester:"
   ]
  },
  {
   "cell_type": "code",
   "execution_count": 5,
   "id": "f051cd22",
   "metadata": {},
   "outputs": [
    {
     "name": "stdout",
     "output_type": "stream",
     "text": [
      "Enter a vowel:a\n",
      "a is a vowel\n"
     ]
    }
   ],
   "source": [
    "Vowels = input(\"Enter a vowel:\")\n",
    "if Vowels in ('a','e','i','o','u','A','E','I','O','U'):\n",
    "    print(Vowels, \"is a vowel\")\n",
    "else:\n",
    "    print(Vowels, \"is not a vowel it's a consonant\")\n"
   ]
  },
  {
   "cell_type": "markdown",
   "id": "56d08f28",
   "metadata": {},
   "source": [
    "# BMI Calculator"
   ]
  },
  {
   "cell_type": "code",
   "execution_count": 6,
   "id": "c499f8fb",
   "metadata": {},
   "outputs": [
    {
     "name": "stdout",
     "output_type": "stream",
     "text": [
      "Enter the weight in kg: 45\n",
      "Enter the height in cm: 35\n",
      "Your BMI is 367.34693877551024\n"
     ]
    }
   ],
   "source": [
    "val = 10000\n",
    "weight_in_kg = int(input(\"Enter the weight in kg: \"))\n",
    "height_in_cm = int(input(\"Enter the height in cm: \"))\n",
    "BMI = weight_in_kg/height_in_cm **2 * val\n",
    "print(\"Your BMI is\", BMI)"
   ]
  },
  {
   "cell_type": "markdown",
   "id": "58fffe28",
   "metadata": {},
   "source": [
    "# LIST"
   ]
  },
  {
   "cell_type": "markdown",
   "id": "8a821c1c",
   "metadata": {},
   "source": [
    "# Store the names of a few of your friends in a list called names"
   ]
  },
  {
   "cell_type": "code",
   "execution_count": 7,
   "id": "d9b4b090",
   "metadata": {},
   "outputs": [
    {
     "name": "stdout",
     "output_type": "stream",
     "text": [
      "Muzammil\n",
      "shariq\n",
      "hussain\n",
      "hamza\n",
      "Ali\n",
      "zain\n"
     ]
    }
   ],
   "source": [
    "names = ['Muzammil', 'shariq', 'hussain', 'hamza', 'Ali', 'zain']\n",
    "for i in names:\n",
    "    print(i)"
   ]
  },
  {
   "cell_type": "markdown",
   "id": "7036dbec",
   "metadata": {},
   "source": [
    "# List used in question 4 instead of just printing each name print a same message to them"
   ]
  },
  {
   "cell_type": "code",
   "execution_count": 8,
   "id": "9c410332",
   "metadata": {},
   "outputs": [
    {
     "name": "stdout",
     "output_type": "stream",
     "text": [
      "Muzammil is very good person\n",
      "shariq is very good person\n",
      "hussain is very good person\n",
      "hamza is very good person\n",
      "Ali is very good person\n",
      "zain is very good person\n"
     ]
    }
   ],
   "source": [
    "for i in names:\n",
    "    print(i , \"is very good person\")"
   ]
  },
  {
   "cell_type": "markdown",
   "id": "e91b8c0b",
   "metadata": {},
   "source": [
    "# Print a python program that contains your nine favourite dishes in list"
   ]
  },
  {
   "cell_type": "code",
   "execution_count": 14,
   "id": "4463d154",
   "metadata": {},
   "outputs": [
    {
     "name": "stdout",
     "output_type": "stream",
     "text": [
      "Three first dishes are:  ['pizza', 'burger', 'kababs']\n",
      "Three middle dishes are:  ['broast', 'nihari', 'biryani']\n",
      "The last three dishes are:  ['qorma', ' karahi', ' tikka']\n"
     ]
    }
   ],
   "source": [
    "favourite = [\"pizza\", \"burger\", \"kababs\", \"broast\", \"nihari\", 'biryani', 'qorma', ' karahi', ' tikka']\n",
    "\n",
    "print(\"Three first dishes are: \" ,favourite[0:3])\n",
    "print(\"Three middle dishes are: \", favourite[3:6])\n",
    "print(\"The last three dishes are: \", favourite[-3:])"
   ]
  },
  {
   "cell_type": "markdown",
   "id": "92f20174",
   "metadata": {},
   "source": [
    "# Start with your program from your last question 8"
   ]
  },
  {
   "cell_type": "code",
   "execution_count": 15,
   "id": "2c834efd",
   "metadata": {},
   "outputs": [
    {
     "name": "stdout",
     "output_type": "stream",
     "text": [
      "['pizza', 'burger', 'kababs', 'broast', 'nihari', 'biryani', 'qorma', ' karahi', ' tikka', 'sajji']\n"
     ]
    }
   ],
   "source": [
    "friend_foods =[\"pizza\", \"burger\", \"kababs\", \"broast\", \"nihari\", 'biryani', 'qorma', ' karahi', ' tikka']\n",
    "friend_foods.append(\"sajji\")\n",
    "print(friend_foods)\n"
   ]
  },
  {
   "cell_type": "code",
   "execution_count": 16,
   "id": "2e4cb72c",
   "metadata": {},
   "outputs": [
    {
     "name": "stdout",
     "output_type": "stream",
     "text": [
      "list one is : ['pizza', 'burger', 'kababs', 'broast', 'nihari', 'biryani', 'qorma', ' karahi', ' tikka']\n",
      "list two is : ['pizza', 'burger', 'kababs', 'broast', 'nihari', 'biryani', 'qorma', ' karahi', ' tikka', 'sajji']\n"
     ]
    }
   ],
   "source": [
    "print(\"list one is :\" ,favourite)\n",
    "print(\"list two is :\", friend_foods)"
   ]
  },
  {
   "cell_type": "code",
   "execution_count": 17,
   "id": "acbb0d98",
   "metadata": {},
   "outputs": [
    {
     "name": "stdout",
     "output_type": "stream",
     "text": [
      "My favourite food is   pizza\n",
      "My favourite food is   burger\n",
      "My favourite food is   kababs\n",
      "My favourite food is   broast\n",
      "My favourite food is   nihari\n",
      "My favourite food is   biryani\n",
      "My favourite food is   qorma\n",
      "My favourite food is    karahi\n",
      "My favourite food is    tikka\n"
     ]
    }
   ],
   "source": [
    "for i in favourite:\n",
    "    \n",
    "    print(\"My favourite food is  \", i)"
   ]
  },
  {
   "cell_type": "code",
   "execution_count": 18,
   "id": "490f3538",
   "metadata": {},
   "outputs": [
    {
     "name": "stdout",
     "output_type": "stream",
     "text": [
      "My friend's favourite food is   pizza\n",
      "My friend's favourite food is   burger\n",
      "My friend's favourite food is   kababs\n",
      "My friend's favourite food is   broast\n",
      "My friend's favourite food is   nihari\n",
      "My friend's favourite food is   biryani\n",
      "My friend's favourite food is   qorma\n",
      "My friend's favourite food is    karahi\n",
      "My friend's favourite food is    tikka\n",
      "My friend's favourite food is   sajji\n"
     ]
    }
   ],
   "source": [
    "for i in friend_foods:\n",
    "    print(\"My friend's favourite food is  \", i)"
   ]
  },
  {
   "cell_type": "code",
   "execution_count": null,
   "id": "6175c218",
   "metadata": {},
   "outputs": [],
   "source": []
  }
 ],
 "metadata": {
  "kernelspec": {
   "display_name": "Python 3 (ipykernel)",
   "language": "python",
   "name": "python3"
  },
  "language_info": {
   "codemirror_mode": {
    "name": "ipython",
    "version": 3
   },
   "file_extension": ".py",
   "mimetype": "text/x-python",
   "name": "python",
   "nbconvert_exporter": "python",
   "pygments_lexer": "ipython3",
   "version": "3.9.12"
  }
 },
 "nbformat": 4,
 "nbformat_minor": 5
}
